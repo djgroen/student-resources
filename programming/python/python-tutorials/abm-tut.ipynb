{
 "cells": [
  {
   "cell_type": "code",
   "execution_count": 4,
   "metadata": {},
   "outputs": [],
   "source": [
    "# Agent-based simulation 101\n",
    "#Written by Derek Groen (Derek.Groen@brunel.ac.uk)\n",
    "\n",
    "#In this tutorial, you will learn how to write a very basic agent-based simulation application. The example we use is a very simplistic simulation that attempts to predict the movement of refugees during the Northern Mali Conflict in 2012.\n",
    "\n",
    "#The underlying technique we introduce here is more widely known as *agent-based modelling*, or ABM."
   ]
  },
  {
   "cell_type": "markdown",
   "metadata": {},
   "source": [
    "## What is agent-based modelling?"
   ]
  },
  {
   "cell_type": "markdown",
   "metadata": {},
   "source": [
    "## Types of agents\n",
    "When thinking about refugee movements, there are a few basic elements:\n",
    "- The refugees themselves.\n",
    "- The locations where the refugees reside\n",
    "- And possibly the paths (or routes) that interconnect the locations\n",
    "\n",
    "In its simplest form, this agent-based model features refugees that reside at a given location, and that move from one location to another as the time in the simulation progresses.\n",
    "\n",
    "### Network-based versus geographically pixelated\n",
    "\n",
    "In general there are two widespread basic approaches to ABM. One is network-based, where each location is an agent, and the location agents are interlinked using *path* agents. A second approach is geographically pixelated, where a region is subdivided into square areas, and the location of agents is indicated by the respective coordinates of the corresponding square areas.\n",
    "\n",
    "# The code\n",
    "What follows is a detailed investigation of the simulation code. The code works as is, but as part of this tutorial you're being asked to change some of its features from simplistic to something a bit more fancy.\n",
    "\n",
    "### Imports\n",
    "In this tutorial we use very few dependencies, but the random library is an essential one, as agent-based simulations strongly rely on randomizers."
   ]
  },
  {
   "cell_type": "code",
   "execution_count": 1,
   "metadata": {},
   "outputs": [],
   "source": [
    "import random"
   ]
  },
  {
   "cell_type": "markdown",
   "metadata": {},
   "source": [
    "## Defining the refugee\n",
    "We first start by defining a simple class which describes a refugee. Let's name this class \"Person\", so that we could choose to reuse the class for other simulation purposes."
   ]
  },
  {
   "cell_type": "code",
   "execution_count": 2,
   "metadata": {},
   "outputs": [],
   "source": [
    "class Person:\n",
    "  def __init__(self, location):\n",
    "    self.ill = False\n",
    "\n",
    "    self.injured = False\n",
    "    \n",
    "    self.age = 35\n",
    "    self.location = location\n",
    "    self.location.numAgents += 1\n",
    "\n",
    "    # Set to true when an agent resides on a link.\n",
    "    self.travelling = False\n",
    "    "
   ]
  },
  {
   "cell_type": "markdown",
   "metadata": {},
   "source": [
    "I gave the Person class a simple *constructor* (see the \\__init\\__() function), which sets a number of parameters specific to the class. You can define any parameter you like, but I opted for the following (semi-arbitrary) set:\n",
    "\n",
    "* **healthy**: which indicates whether a Person is generally healthy or ill/weakened.\n",
    "* **injured**: which indicates whether a Person is physically injured or not.\n",
    "* **age**: age in years.\n",
    "* **location**: a reference to the location where the Person currently resides.\n",
    "* **travelling**: whether the Person is currently in transit, or stationary at one of the locations.\n",
    "\n",
    "Now each Person will have to make decisions at different moment. In this code, we model two types of decisions:\n",
    "1. Whether the Person wishes to move from its current location to another one.\n",
    "2. If 1 is the case: which route the Person will choose from a set of routes.\n",
    "\n",
    "We will start with decision 2, which is at the lowest level, and create a simple function that picks a *favourite* route amongst a list of routes. To do this, we created a simple weighted choice algorithm:"
   ]
  },
  {
   "cell_type": "code",
   "execution_count": 22,
   "metadata": {},
   "outputs": [],
   "source": [
    "  def selectRoute(self):        \n",
    "    total_score = 0.0\n",
    "    for i in range(0,len(self.location.links)):\n",
    "      total_score += 40000.0 / (10.0 + self.location.links[i].distance)\n",
    "\n",
    "    selected_value = random.random() * total_score\n",
    "\n",
    "    checked_score = 0.0\n",
    "    for i in range(0,len(self.location.links)):\n",
    "      checked_score += 40000.0 / (10.0 + self.location.links[i].distance)\n",
    "      if selected_value < checked_score:\n",
    "        return i\n",
    "    \n",
    "# Simple workarounds to make this Python member functions work properly in Jupyter \n",
    "# (which doesn't carry over the class structure from the previous fragment).\n",
    "Person.selectRoute = selectRoute"
   ]
  },
  {
   "cell_type": "markdown",
   "metadata": {},
   "source": [
    "Here, each option has a weight equal to 40000 (the approximate circumference of the planet in km) divided by (10 + [distance to the endpoint of the route in km]).\n",
    "\n",
    "Because the function is rather simple, I included a full implementation. However, the exact same functionality can also be accomplished using *numpy.random.choice()*.\n",
    "\n",
    "selectRoute() is embedded in a more general function (*evolve()*), which evolves the position of a Person over a single timestep in the simulation. This function essentially captures the mechanics in making decision 1, and relies on the aforementioned selectRoute() to resolve decision 2 when necessary:"
   ]
  },
  {
   "cell_type": "code",
   "execution_count": 4,
   "metadata": {},
   "outputs": [],
   "source": [
    "  def evolve(self):\n",
    "    movechance = self.location.movechance\n",
    "    outcome = random.random()\n",
    "    self.travelling = False\n",
    "    if outcome < movechance:\n",
    "      # determine here which route to take?\n",
    "      chosenRoute = self.selectRoute()\n",
    "\n",
    "      # update location to link endpoint\n",
    "      self.location.numAgents -= 1\n",
    "      self.location = self.location.links[chosenRoute]\n",
    "      self.location.numAgents += 1\n",
    "      self.travelling = True\n",
    "    \n",
    "# Simple workarounds to make this Python member functions work properly in Jupyter \n",
    "# (which doesn't carry over the class structure from the previous fragment).\n",
    "Person.evolve = evolve"
   ]
  },
  {
   "cell_type": "markdown",
   "metadata": {},
   "source": [
    "Here the chance of a Person moving at all at a given time step is given by the *movechance*. This movechance is a static number for each Location, allowing us to set a high movechance for unsafe locations, and a lower movechance for safer locations.\n",
    "\n",
    "evolve() places Persons on the Links. To ensure that these Persons reach there destination we create one more function, namely *finish_travel()*"
   ]
  },
  {
   "cell_type": "code",
   "execution_count": 5,
   "metadata": {},
   "outputs": [],
   "source": [
    "  def finish_travel(self):\n",
    "    if self.travelling:\n",
    "      # update location (which is on a link) to link endpoint\n",
    "      self.location.numAgents -= 1\n",
    "      self.location = self.location.endpoint\n",
    "      self.location.numAgents += 1     \n",
    "\n",
    "# Simple workarounds to make this Python member functions work properly in Jupyter \n",
    "# (which doesn't carry over the class structure from the previous fragment).\n",
    "Person.finish_travel = finish_travel"
   ]
  },
  {
   "cell_type": "markdown",
   "metadata": {},
   "source": [
    "This function is a little redundant right now (it could be part of evolve()), but it allows you to later modify the code, to accomodate Persons to spend more than one time step in transit."
   ]
  },
  {
   "cell_type": "markdown",
   "metadata": {},
   "source": [
    "## Defining the Locations\n",
    "Now Persons will reside at a given place, or *Location*. To define these places in a networked model, we create a Location object for each place:"
   ]
  },
  {
   "cell_type": "code",
   "execution_count": 6,
   "metadata": {},
   "outputs": [],
   "source": [
    "class Location:\n",
    "  def __init__(self, name, x=0.0, y=0.0, movechance=0.001):\n",
    "    self.name = name\n",
    "    self.x = x\n",
    "    self.y = y\n",
    "    self.movechance = movechance\n",
    "    self.links = []\n",
    "    self.numAgents = 0"
   ]
  },
  {
   "cell_type": "markdown",
   "metadata": {},
   "source": [
    "The Location class, too, has a number of simple parameters. These represent essential characteristics for individual locations:\n",
    "* **name**: the name of the Location.\n",
    "* **x**: GPS x-coordinate, useful for placing on a map and for calculating distances as the bird flies.\n",
    "* **y**: GPS y-coordinate.\n",
    "* **movechance**: An indicator denoting the safety level of this location. Are refugees certain to stay put (0), certain to move out immediately (1) or will there be a mixture (0<movechance<1).\n",
    "* **links**: An array containing routes/links/paths to other Locations.\n",
    "* **numAgents**: A tracking variable that keeps count as to how many refugees are present at this Location."
   ]
  },
  {
   "cell_type": "markdown",
   "metadata": {},
   "source": [
    "## Defining the Links\n",
    "\n",
    "Another ingredient of our simulations is to *interconnect* our locations. Geographically-resolved models represent each Location by a pixel, but in our network-based model it is not immediately clear that give Locations are adjacent. To define adjacencies, we therefore create Link objects which interconnect a set of two locations:"
   ]
  },
  {
   "cell_type": "code",
   "execution_count": 7,
   "metadata": {},
   "outputs": [],
   "source": [
    "class Link:\n",
    "  def __init__(self, endpoint, distance):\n",
    "\n",
    "    # distance in km.\n",
    "    self.distance = float(distance)\n",
    "\n",
    "    # links for now always connect two endpoints\n",
    "    self.endpoint = endpoint\n",
    "\n",
    "    # number of agents that are in transit.\n",
    "    self.numAgents = 0   "
   ]
  },
  {
   "cell_type": "markdown",
   "metadata": {},
   "source": [
    "The Links class is accompanied with the following attributes:\n",
    "* **distance**: The length of the link in kilometers.\n",
    "* **endpoint**: A reference to the Location to which this Link will lead.\n",
    "* **numAgents**: Our all-familiar tracking variable that keeps count as to how many refugees are *in transit* on this link.\n",
    "\n",
    "Note: As Links are stored in arrays as part of each (starting) Location, we do not need to define the starting Location as a parameter of this class."
   ]
  },
  {
   "cell_type": "markdown",
   "metadata": {},
   "source": [
    "## From state to simulation\n",
    "\n",
    "We now have refugees, locations, and links that represent connections between these locations. These are essential components for an agent-based model in this context. It's easy to think up many other possible components (e.g., conflict events, other types of agents, more parameters regarding age, religion etc.), but most of these are not essential for the simulation in its most basic form. However, what *is* essential is to be able to model a period of time, i.e. turning out frozen *state* into a *simulation*.\n",
    "\n",
    "To accomplish this, we create an *Ecosystem* class, which stores the full state (Locations, Links and Persons), and which is able to *evolve* them in time. We define the class as follows:"
   ]
  },
  {
   "cell_type": "code",
   "execution_count": 8,
   "metadata": {},
   "outputs": [],
   "source": [
    "class Ecosystem:\n",
    "  def __init__(self):\n",
    "    self.locations = []\n",
    "    self.locationNames = []\n",
    "    self.agents = []\n",
    "    self.time = 0\n"
   ]
  },
  {
   "cell_type": "markdown",
   "metadata": {},
   "source": [
    "The Ecosystem class has the following attributes:\n",
    "* **locations**: Contains all the locations in our system.\n",
    "* **locationNames**: A shorthand list of the names of the respective locations in our system, to make it easier to write diagnostic information.\n",
    "* **agents**: A list of all the agents in our system.\n",
    "* **time**: Basically a clock, which contains the number of time steps that have been taken.\n",
    "\n",
    "Next, we need a function that adds locations to the Ecosystem:"
   ]
  },
  {
   "cell_type": "code",
   "execution_count": 9,
   "metadata": {},
   "outputs": [],
   "source": [
    "  def addLocation(self, name, x=\"0.0\", y=\"0.0\", movechance=0.1):\n",
    "    l = Location(name, x, y, movechance)\n",
    "    self.locations.append(l)\n",
    "    self.locationNames.append(l.name)\n",
    "    return l\n",
    "\n",
    "# Simple workarounds to make this Python member functions work properly in Jupyter \n",
    "# (which doesn't carry over the class structure from the previous fragment).\n",
    "Ecosystem.addLocation = addLocation"
   ]
  },
  {
   "cell_type": "markdown",
   "metadata": {},
   "source": [
    "...a function that adds Agents to the Ecosystem:"
   ]
  },
  {
   "cell_type": "code",
   "execution_count": 10,
   "metadata": {},
   "outputs": [],
   "source": [
    "  def addAgent(self, location):\n",
    "    self.agents.append(Person(location))\n",
    "\n",
    "# Simple workarounds to make this Python member functions work properly in Jupyter \n",
    "# (which doesn't carry over the class structure from the previous fragment).\n",
    "Ecosystem.addAgent = addAgent"
   ]
  },
  {
   "cell_type": "markdown",
   "metadata": {},
   "source": [
    "...and a function that adds Links to the Ecosystem:"
   ]
  },
  {
   "cell_type": "code",
   "execution_count": 18,
   "metadata": {},
   "outputs": [],
   "source": [
    "  def linkUp(self, endpoint1, endpoint2, distance=\"1.0\"):\n",
    "    \"\"\" Creates a link between two endpoint locations\n",
    "    \"\"\"\n",
    "    endpoint1_index = 0\n",
    "    endpoint2_index = 0\n",
    "    for i in range(0, len(self.locationNames)):\n",
    "      if(self.locationNames[i] == endpoint1):\n",
    "        endpoint1_index = i\n",
    "      if(self.locationNames[i] == endpoint2):\n",
    "        endpoint2_index = i\n",
    "\n",
    "\n",
    "    self.locations[endpoint1_index].links.append( Link(self.locations[endpoint2_index], distance) )\n",
    "    self.locations[endpoint2_index].links.append( Link(self.locations[endpoint1_index], distance) )\n",
    "\n",
    "# Simple workarounds to make this Python member functions work properly in Jupyter \n",
    "# (which doesn't carry over the class structure from the previous fragment).    \n",
    "Ecosystem.linkUp = linkUp"
   ]
  },
  {
   "cell_type": "markdown",
   "metadata": {},
   "source": [
    "Crucially, we want to evolve the system in time. This is actually done using the following function:"
   ]
  },
  {
   "cell_type": "code",
   "execution_count": 12,
   "metadata": {},
   "outputs": [],
   "source": [
    "  def doTimeStep(self):\n",
    "    #update agent locations\n",
    "    for a in self.agents:\n",
    "      a.evolve()\n",
    "\n",
    "    for a in self.agents:\n",
    "      a.finish_travel()\n",
    "\n",
    "    #update link properties\n",
    "\n",
    "    self.time += 1\n",
    "\n",
    "# Simple workarounds to make this Python member functions work properly in Jupyter \n",
    "# (which doesn't carry over the class structure from the previous fragment).\n",
    "Ecosystem.doTimeStep = doTimeStep"
   ]
  },
  {
   "cell_type": "markdown",
   "metadata": {},
   "source": [
    "Lastly, we add two functions to aid us in writing out some results."
   ]
  },
  {
   "cell_type": "code",
   "execution_count": 14,
   "metadata": {},
   "outputs": [],
   "source": [
    "  def numAgents(self):\n",
    "    return len(self.agents)\n",
    "\n",
    "  def printInfo(self):\n",
    "\n",
    "    print(\"Time: \", self.time, \", # of agents: \", len(self.agents))\n",
    "    for l in self.locations:\n",
    "      print(l.name, l.numAgents)\n",
    "\n",
    "# Simple workarounds to make this Python member functions work properly in Jupyter \n",
    "# (which doesn't carry over the class structure from the previous fragment).\n",
    "Ecosystem.numAgents = numAgents\n",
    "Ecosystem.printInfo = printInfo"
   ]
  },
  {
   "cell_type": "markdown",
   "metadata": {},
   "source": [
    "# Creating and running a Agent-based Simulation\n",
    "\n",
    "We have now created all the essential classes to perform an agent-based simulation. Here we describe how you can construct and run a simple ABM simulation. We start off by creating an Ecosystem, and adding a source, and two sink locations to it:"
   ]
  },
  {
   "cell_type": "code",
   "execution_count": 16,
   "metadata": {},
   "outputs": [
    {
     "name": "stdout",
     "output_type": "stream",
     "text": [
      "A first ABM implementation\n"
     ]
    }
   ],
   "source": [
    "#if __name__ == \"__main__\":\n",
    "print(\"A first ABM implementation\")\n",
    "\n",
    "e = Ecosystem()\n",
    "\n",
    "l1 = e.addLocation(\"Source\")\n",
    "l2 = e.addLocation(\"Sink1\")\n",
    "l3 = e.addLocation(\"Sink2\")"
   ]
  },
  {
   "cell_type": "markdown",
   "metadata": {},
   "source": [
    "Next, we establish two paths, each of which connects the source location to one of the two sink locations. As a test, we specify one of the paths to have a length of 10 kilometers, and one to have a length of 5 kilometers:"
   ]
  },
  {
   "cell_type": "code",
   "execution_count": 19,
   "metadata": {},
   "outputs": [],
   "source": [
    "e.linkUp(\"Source\",\"Sink1\",\"10.0\")\n",
    "e.linkUp(\"Source\",\"Sink2\",\"5.0\")"
   ]
  },
  {
   "cell_type": "markdown",
   "metadata": {},
   "source": [
    "With the location and links in place, we can now insert a hundred agents in the source location *l1*. To do that, we use the addAgent() function a hundred times."
   ]
  },
  {
   "cell_type": "code",
   "execution_count": 20,
   "metadata": {},
   "outputs": [],
   "source": [
    "for i in range(0,100):\n",
    "  e.addAgent(location=l1)"
   ]
  },
  {
   "cell_type": "markdown",
   "metadata": {},
   "source": [
    "With all the agents in place, we can now proceed to run the simulation. We run the simulation for a duration of 10 time steps, and we print basic diagnostic information after each time step:"
   ]
  },
  {
   "cell_type": "code",
   "execution_count": 23,
   "metadata": {},
   "outputs": [
    {
     "name": "stdout",
     "output_type": "stream",
     "text": [
      "Time:  1 , # of agents:  100\n",
      "Source 87\n",
      "Sink1 5\n",
      "Sink2 8\n",
      "Time:  2 , # of agents:  100\n",
      "Source 80\n",
      "Sink1 9\n",
      "Sink2 11\n",
      "Time:  3 , # of agents:  100\n",
      "Source 73\n",
      "Sink1 10\n",
      "Sink2 17\n",
      "Time:  4 , # of agents:  100\n",
      "Source 73\n",
      "Sink1 11\n",
      "Sink2 16\n",
      "Time:  5 , # of agents:  100\n",
      "Source 63\n",
      "Sink1 14\n",
      "Sink2 23\n",
      "Time:  6 , # of agents:  100\n",
      "Source 57\n",
      "Sink1 18\n",
      "Sink2 25\n",
      "Time:  7 , # of agents:  100\n",
      "Source 54\n",
      "Sink1 21\n",
      "Sink2 25\n",
      "Time:  8 , # of agents:  100\n",
      "Source 58\n",
      "Sink1 17\n",
      "Sink2 25\n",
      "Time:  9 , # of agents:  100\n",
      "Source 51\n",
      "Sink1 19\n",
      "Sink2 30\n",
      "Time:  10 , # of agents:  100\n",
      "Source 46\n",
      "Sink1 22\n",
      "Sink2 32\n"
     ]
    }
   ],
   "source": [
    "duration=10\n",
    "for t in range(0,duration):\n",
    "  e.doTimeStep()\n",
    "  e.printInfo()"
   ]
  },
  {
   "cell_type": "markdown",
   "metadata": {},
   "source": [
    "...and with that all in place, you have just established your first working ABM model!"
   ]
  },
  {
   "cell_type": "code",
   "execution_count": null,
   "metadata": {},
   "outputs": [],
   "source": [
    "print \"Well done!\""
   ]
  },
  {
   "cell_type": "code",
   "execution_count": null,
   "metadata": {},
   "outputs": [],
   "source": []
  }
 ],
 "metadata": {
  "kernelspec": {
   "display_name": "Python 3",
   "language": "python",
   "name": "python3"
  },
  "language_info": {
   "codemirror_mode": {
    "name": "ipython",
    "version": 3
   },
   "file_extension": ".py",
   "mimetype": "text/x-python",
   "name": "python",
   "nbconvert_exporter": "python",
   "pygments_lexer": "ipython3",
   "version": "3.6.7"
  }
 },
 "nbformat": 4,
 "nbformat_minor": 1
}
